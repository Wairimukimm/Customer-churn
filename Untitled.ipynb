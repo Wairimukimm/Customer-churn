{
 "cells": [
  {
   "cell_type": "markdown",
   "metadata": {},
   "source": [
    "## BANK CUSTOMER CHURN"
   ]
  },
  {
   "cell_type": "markdown",
   "metadata": {},
   "source": [
    "BUSINESS UNDERSTANDING\n",
    "* this notebook, we are going to use Machine Learning models to predict the churn of customers of the bank.\n",
    "  Churn is defined by the number of customers that abandon a suscription over a period of time. In this case, \n",
    "  we study the churn of bank customers over a period of time. By identifying the type customers that are most likely to       cancel the bank account, \n",
    "  a bank can design campaigns to ensure they retain them.\n",
    "  Bank churn prediction typically involves using historical data of customers who have churned and those who haven't. This   data often includes demographics, transaction history, account details, customer service interactions, etc. The goal is     to build a model that predicts which customers are more likely to churn in the future based on these features"
   ]
  },
  {
   "cell_type": "markdown",
   "metadata": {},
   "source": [
    "DATA UNDERSTANDING \n"
   ]
  },
  {
   "cell_type": "markdown",
   "metadata": {},
   "source": [
    "CustomerId—contains random values and has no effect on customer leaving the bank.\n",
    "Surname—the surname of a customer has no impact on their decision to leave the bank.\n",
    "CreditScore—can have an effect on customer churn, since a customer with a higher credit score is less likely to leave the bank.\n",
    "Geography—a customer’s location can affect their decision to leave the bank.\n",
    "Gender—it’s interesting to explore whether gender plays a role in a customer leaving the bank.\n",
    "Age—this is certainly relevant, since older customers are less likely to leave their bank than younger ones.\n",
    "Tenure—refers to the number of years that the customer has been a client of the bank. Normally, older clients are more loyal and less likely to leave a bank.\n",
    "Balance—also a very good indicator of customer churn, as people with a higher balance in their accounts are less likely to leave the bank compared to those with lower balances.\n",
    "NumOfProducts—refers to the number of products that a customer has purchased through the bank.\n",
    "HasCrCard—denotes whether or not a customer has a credit card. This column is also relevant, since people with a credit card are less likely to leave the bank.\n",
    "IsActiveMember—active customers are less likely to leave the bank.\n",
    "EstimatedSalary—as with balance, people with lower salaries are more likely to leave the bank compared to those with higher salaries.\n",
    "Exited—whether or not the customer left the bank.\n",
    "Complain—customer has complaint or not.\n",
    "Satisfaction Score—Score provided by the customer for their complaint resolution.\n",
    "Card Type—type of card hold by the customer.\n",
    "Points Earned—the points earned by the customer for using credit card."
   ]
  },
  {
   "cell_type": "code",
   "execution_count": null,
   "metadata": {},
   "outputs": [],
   "source": []
  },
  {
   "cell_type": "markdown",
   "metadata": {},
   "source": [
    "* To find the counry with majority churn\n",
    "* To know the relationship btw tenure and churn\n",
    "* To build a model\n",
    "* To fins the best features that affect churn most\n",
    "*Based on model insights, construct actionable recommendations for reducing churn."
   ]
  },
  {
   "cell_type": "markdown",
   "metadata": {},
   "source": [
    "Develop campaigns to target high-risk customers.\n"
   ]
  },
  {
   "cell_type": "markdown",
   "metadata": {},
   "source": [
    "https://www.kaggle.com/datasets/radheshyamkollipara/bank-customer-churn?source=post_page-----fa6e2324c245--------------------------------"
   ]
  },
  {
   "cell_type": "code",
   "execution_count": 127,
   "metadata": {},
   "outputs": [],
   "source": [
    "import pandas as pd\n",
    "import numpy as np\n",
    "\n",
    "import seaborn as sns\n",
    "import matplotlib.pyplot as plt\n",
    "\n",
    "from sklearn.model_selection import train_test_split\n",
    "from sklearn.linear_model import LogisticRegression\n",
    "from sklearn.tree import DecisionTreeClassifier\n",
    "from sklearn.ensemble import RandomForestClassifier\n",
    "from sklearn.pipeline import Pipeline\n",
    "from sklearn.preprocessing import StandardScaler\n",
    "from sklearn.metrics import classification_report, accuracy_score \n",
    "from collections import Counter\n",
    "from imblearn.over_sampling import SMOTE\n",
    "from func import open_file\n",
    "from sklearn.ensemble import GradientBoostingClassifier\n",
    "\n",
    "import xgboost as xgb\n"
   ]
  },
  {
   "cell_type": "code",
   "execution_count": 125,
   "metadata": {},
   "outputs": [
    {
     "data": {
      "text/html": [
       "<div>\n",
       "<style scoped>\n",
       "    .dataframe tbody tr th:only-of-type {\n",
       "        vertical-align: middle;\n",
       "    }\n",
       "\n",
       "    .dataframe tbody tr th {\n",
       "        vertical-align: top;\n",
       "    }\n",
       "\n",
       "    .dataframe thead th {\n",
       "        text-align: right;\n",
       "    }\n",
       "</style>\n",
       "<table border=\"1\" class=\"dataframe\">\n",
       "  <thead>\n",
       "    <tr style=\"text-align: right;\">\n",
       "      <th></th>\n",
       "      <th>RowNumber</th>\n",
       "      <th>CustomerId</th>\n",
       "      <th>Surname</th>\n",
       "      <th>CreditScore</th>\n",
       "      <th>Geography</th>\n",
       "      <th>Gender</th>\n",
       "      <th>Age</th>\n",
       "      <th>Tenure</th>\n",
       "      <th>Balance</th>\n",
       "      <th>NumOfProducts</th>\n",
       "      <th>HasCrCard</th>\n",
       "      <th>IsActiveMember</th>\n",
       "      <th>EstimatedSalary</th>\n",
       "      <th>Exited</th>\n",
       "      <th>Complain</th>\n",
       "      <th>Satisfaction Score</th>\n",
       "      <th>Card Type</th>\n",
       "      <th>Point Earned</th>\n",
       "    </tr>\n",
       "  </thead>\n",
       "  <tbody>\n",
       "    <tr>\n",
       "      <th>0</th>\n",
       "      <td>1</td>\n",
       "      <td>15634602</td>\n",
       "      <td>Hargrave</td>\n",
       "      <td>619</td>\n",
       "      <td>France</td>\n",
       "      <td>Female</td>\n",
       "      <td>42</td>\n",
       "      <td>2</td>\n",
       "      <td>0.00</td>\n",
       "      <td>1</td>\n",
       "      <td>1</td>\n",
       "      <td>1</td>\n",
       "      <td>101348.88</td>\n",
       "      <td>1</td>\n",
       "      <td>1</td>\n",
       "      <td>2</td>\n",
       "      <td>DIAMOND</td>\n",
       "      <td>464</td>\n",
       "    </tr>\n",
       "    <tr>\n",
       "      <th>1</th>\n",
       "      <td>2</td>\n",
       "      <td>15647311</td>\n",
       "      <td>Hill</td>\n",
       "      <td>608</td>\n",
       "      <td>Spain</td>\n",
       "      <td>Female</td>\n",
       "      <td>41</td>\n",
       "      <td>1</td>\n",
       "      <td>83807.86</td>\n",
       "      <td>1</td>\n",
       "      <td>0</td>\n",
       "      <td>1</td>\n",
       "      <td>112542.58</td>\n",
       "      <td>0</td>\n",
       "      <td>1</td>\n",
       "      <td>3</td>\n",
       "      <td>DIAMOND</td>\n",
       "      <td>456</td>\n",
       "    </tr>\n",
       "    <tr>\n",
       "      <th>2</th>\n",
       "      <td>3</td>\n",
       "      <td>15619304</td>\n",
       "      <td>Onio</td>\n",
       "      <td>502</td>\n",
       "      <td>France</td>\n",
       "      <td>Female</td>\n",
       "      <td>42</td>\n",
       "      <td>8</td>\n",
       "      <td>159660.80</td>\n",
       "      <td>3</td>\n",
       "      <td>1</td>\n",
       "      <td>0</td>\n",
       "      <td>113931.57</td>\n",
       "      <td>1</td>\n",
       "      <td>1</td>\n",
       "      <td>3</td>\n",
       "      <td>DIAMOND</td>\n",
       "      <td>377</td>\n",
       "    </tr>\n",
       "    <tr>\n",
       "      <th>3</th>\n",
       "      <td>4</td>\n",
       "      <td>15701354</td>\n",
       "      <td>Boni</td>\n",
       "      <td>699</td>\n",
       "      <td>France</td>\n",
       "      <td>Female</td>\n",
       "      <td>39</td>\n",
       "      <td>1</td>\n",
       "      <td>0.00</td>\n",
       "      <td>2</td>\n",
       "      <td>0</td>\n",
       "      <td>0</td>\n",
       "      <td>93826.63</td>\n",
       "      <td>0</td>\n",
       "      <td>0</td>\n",
       "      <td>5</td>\n",
       "      <td>GOLD</td>\n",
       "      <td>350</td>\n",
       "    </tr>\n",
       "    <tr>\n",
       "      <th>4</th>\n",
       "      <td>5</td>\n",
       "      <td>15737888</td>\n",
       "      <td>Mitchell</td>\n",
       "      <td>850</td>\n",
       "      <td>Spain</td>\n",
       "      <td>Female</td>\n",
       "      <td>43</td>\n",
       "      <td>2</td>\n",
       "      <td>125510.82</td>\n",
       "      <td>1</td>\n",
       "      <td>1</td>\n",
       "      <td>1</td>\n",
       "      <td>79084.10</td>\n",
       "      <td>0</td>\n",
       "      <td>0</td>\n",
       "      <td>5</td>\n",
       "      <td>GOLD</td>\n",
       "      <td>425</td>\n",
       "    </tr>\n",
       "  </tbody>\n",
       "</table>\n",
       "</div>"
      ],
      "text/plain": [
       "   RowNumber  CustomerId   Surname  CreditScore Geography  Gender  Age  \\\n",
       "0          1    15634602  Hargrave          619    France  Female   42   \n",
       "1          2    15647311      Hill          608     Spain  Female   41   \n",
       "2          3    15619304      Onio          502    France  Female   42   \n",
       "3          4    15701354      Boni          699    France  Female   39   \n",
       "4          5    15737888  Mitchell          850     Spain  Female   43   \n",
       "\n",
       "   Tenure    Balance  NumOfProducts  HasCrCard  IsActiveMember  \\\n",
       "0       2       0.00              1          1               1   \n",
       "1       1   83807.86              1          0               1   \n",
       "2       8  159660.80              3          1               0   \n",
       "3       1       0.00              2          0               0   \n",
       "4       2  125510.82              1          1               1   \n",
       "\n",
       "   EstimatedSalary  Exited  Complain  Satisfaction Score Card Type  \\\n",
       "0        101348.88       1         1                   2   DIAMOND   \n",
       "1        112542.58       0         1                   3   DIAMOND   \n",
       "2        113931.57       1         1                   3   DIAMOND   \n",
       "3         93826.63       0         0                   5      GOLD   \n",
       "4         79084.10       0         0                   5      GOLD   \n",
       "\n",
       "   Point Earned  \n",
       "0           464  \n",
       "1           456  \n",
       "2           377  \n",
       "3           350  \n",
       "4           425  "
      ]
     },
     "execution_count": 125,
     "metadata": {},
     "output_type": "execute_result"
    }
   ],
   "source": [
    "df = pd.read_csv(r\"C:\\Users\\nimu\\Downloads\\archive (26)\\Customer-Churn-Records.csv\")\n",
    "df.head()"
   ]
  },
  {
   "cell_type": "code",
   "execution_count": 111,
   "metadata": {},
   "outputs": [
    {
     "name": "stdout",
     "output_type": "stream",
     "text": [
      "Data types\n",
      "RowNumber               int64\n",
      "CustomerId              int64\n",
      "Surname                object\n",
      "CreditScore             int64\n",
      "Geography              object\n",
      "Gender                 object\n",
      "Age                     int64\n",
      "Tenure                  int64\n",
      "Balance               float64\n",
      "NumOfProducts           int64\n",
      "HasCrCard               int64\n",
      "IsActiveMember          int64\n",
      "EstimatedSalary       float64\n",
      "Exited                  int64\n",
      "Complain                int64\n",
      "Satisfaction Score      int64\n",
      "Card Type              object\n",
      "Point Earned            int64\n",
      "dtype: object\n",
      "Shape\n",
      "(10000, 18)\n",
      "Info\n",
      "<class 'pandas.core.frame.DataFrame'>\n",
      "RangeIndex: 10000 entries, 0 to 9999\n",
      "Data columns (total 18 columns):\n",
      " #   Column              Non-Null Count  Dtype  \n",
      "---  ------              --------------  -----  \n",
      " 0   RowNumber           10000 non-null  int64  \n",
      " 1   CustomerId          10000 non-null  int64  \n",
      " 2   Surname             10000 non-null  object \n",
      " 3   CreditScore         10000 non-null  int64  \n",
      " 4   Geography           10000 non-null  object \n",
      " 5   Gender              10000 non-null  object \n",
      " 6   Age                 10000 non-null  int64  \n",
      " 7   Tenure              10000 non-null  int64  \n",
      " 8   Balance             10000 non-null  float64\n",
      " 9   NumOfProducts       10000 non-null  int64  \n",
      " 10  HasCrCard           10000 non-null  int64  \n",
      " 11  IsActiveMember      10000 non-null  int64  \n",
      " 12  EstimatedSalary     10000 non-null  float64\n",
      " 13  Exited              10000 non-null  int64  \n",
      " 14  Complain            10000 non-null  int64  \n",
      " 15  Satisfaction Score  10000 non-null  int64  \n",
      " 16  Card Type           10000 non-null  object \n",
      " 17  Point Earned        10000 non-null  int64  \n",
      "dtypes: float64(2), int64(12), object(4)\n",
      "memory usage: 1.4+ MB\n",
      "None\n"
     ]
    }
   ],
   "source": [
    "open_file(r\"C:\\Users\\nimu\\Downloads\\archive (26)\\Customer-Churn-Records.csv\")"
   ]
  },
  {
   "cell_type": "markdown",
   "metadata": {},
   "source": [
    "DATA PREPARATION\n",
    "* Check for missing values\n",
    "* check for duplicates\n",
    "* Rename columns for easier identification\n",
    "* Drop unnecessary columns "
   ]
  },
  {
   "cell_type": "code",
   "execution_count": 112,
   "metadata": {},
   "outputs": [
    {
     "data": {
      "text/plain": [
       "RowNumber             0\n",
       "CustomerId            0\n",
       "Surname               0\n",
       "CreditScore           0\n",
       "Geography             0\n",
       "Gender                0\n",
       "Age                   0\n",
       "Tenure                0\n",
       "Balance               0\n",
       "NumOfProducts         0\n",
       "HasCrCard             0\n",
       "IsActiveMember        0\n",
       "EstimatedSalary       0\n",
       "Exited                0\n",
       "Complain              0\n",
       "Satisfaction Score    0\n",
       "Card Type             0\n",
       "Point Earned          0\n",
       "dtype: int64"
      ]
     },
     "execution_count": 112,
     "metadata": {},
     "output_type": "execute_result"
    }
   ],
   "source": [
    "# check for missing values\n",
    "df.isnull().sum()"
   ]
  },
  {
   "cell_type": "code",
   "execution_count": 113,
   "metadata": {},
   "outputs": [
    {
     "data": {
      "text/plain": [
       "0"
      ]
     },
     "execution_count": 113,
     "metadata": {},
     "output_type": "execute_result"
    }
   ],
   "source": [
    "#check for duplicates\n",
    "df.duplicated().sum()"
   ]
  },
  {
   "cell_type": "code",
   "execution_count": 114,
   "metadata": {},
   "outputs": [],
   "source": [
    "new_names = {\n",
    "    'Geography': 'Country',\n",
    "    'Exited': 'Churn',\n",
    "    'HasCrCard': 'Credit_card'\n",
    "}\n",
    "\n",
    "# Rename columns \n",
    "df.rename(columns=new_names, inplace=True)\n"
   ]
  },
  {
   "cell_type": "code",
   "execution_count": 115,
   "metadata": {},
   "outputs": [],
   "source": [
    "#remove unnecessary columns\n",
    "df.drop(columns = ['RowNumber', 'CustomerId'], inplace=True)"
   ]
  },
  {
   "cell_type": "code",
   "execution_count": 116,
   "metadata": {},
   "outputs": [
    {
     "data": {
      "text/html": [
       "<div>\n",
       "<style scoped>\n",
       "    .dataframe tbody tr th:only-of-type {\n",
       "        vertical-align: middle;\n",
       "    }\n",
       "\n",
       "    .dataframe tbody tr th {\n",
       "        vertical-align: top;\n",
       "    }\n",
       "\n",
       "    .dataframe thead th {\n",
       "        text-align: right;\n",
       "    }\n",
       "</style>\n",
       "<table border=\"1\" class=\"dataframe\">\n",
       "  <thead>\n",
       "    <tr style=\"text-align: right;\">\n",
       "      <th></th>\n",
       "      <th>CreditScore</th>\n",
       "      <th>Age</th>\n",
       "      <th>Tenure</th>\n",
       "      <th>Balance</th>\n",
       "      <th>NumOfProducts</th>\n",
       "      <th>Credit_card</th>\n",
       "      <th>IsActiveMember</th>\n",
       "      <th>EstimatedSalary</th>\n",
       "      <th>Churn</th>\n",
       "      <th>Complain</th>\n",
       "      <th>Satisfaction Score</th>\n",
       "      <th>Point Earned</th>\n",
       "    </tr>\n",
       "  </thead>\n",
       "  <tbody>\n",
       "    <tr>\n",
       "      <th>count</th>\n",
       "      <td>10000.000000</td>\n",
       "      <td>10000.000000</td>\n",
       "      <td>10000.000000</td>\n",
       "      <td>10000.000000</td>\n",
       "      <td>10000.000000</td>\n",
       "      <td>10000.00000</td>\n",
       "      <td>10000.000000</td>\n",
       "      <td>10000.000000</td>\n",
       "      <td>10000.000000</td>\n",
       "      <td>10000.000000</td>\n",
       "      <td>10000.000000</td>\n",
       "      <td>10000.000000</td>\n",
       "    </tr>\n",
       "    <tr>\n",
       "      <th>mean</th>\n",
       "      <td>650.528800</td>\n",
       "      <td>38.921800</td>\n",
       "      <td>5.012800</td>\n",
       "      <td>76485.889288</td>\n",
       "      <td>1.530200</td>\n",
       "      <td>0.70550</td>\n",
       "      <td>0.515100</td>\n",
       "      <td>100090.239881</td>\n",
       "      <td>0.203800</td>\n",
       "      <td>0.204400</td>\n",
       "      <td>3.013800</td>\n",
       "      <td>606.515100</td>\n",
       "    </tr>\n",
       "    <tr>\n",
       "      <th>std</th>\n",
       "      <td>96.653299</td>\n",
       "      <td>10.487806</td>\n",
       "      <td>2.892174</td>\n",
       "      <td>62397.405202</td>\n",
       "      <td>0.581654</td>\n",
       "      <td>0.45584</td>\n",
       "      <td>0.499797</td>\n",
       "      <td>57510.492818</td>\n",
       "      <td>0.402842</td>\n",
       "      <td>0.403283</td>\n",
       "      <td>1.405919</td>\n",
       "      <td>225.924839</td>\n",
       "    </tr>\n",
       "    <tr>\n",
       "      <th>min</th>\n",
       "      <td>350.000000</td>\n",
       "      <td>18.000000</td>\n",
       "      <td>0.000000</td>\n",
       "      <td>0.000000</td>\n",
       "      <td>1.000000</td>\n",
       "      <td>0.00000</td>\n",
       "      <td>0.000000</td>\n",
       "      <td>11.580000</td>\n",
       "      <td>0.000000</td>\n",
       "      <td>0.000000</td>\n",
       "      <td>1.000000</td>\n",
       "      <td>119.000000</td>\n",
       "    </tr>\n",
       "    <tr>\n",
       "      <th>25%</th>\n",
       "      <td>584.000000</td>\n",
       "      <td>32.000000</td>\n",
       "      <td>3.000000</td>\n",
       "      <td>0.000000</td>\n",
       "      <td>1.000000</td>\n",
       "      <td>0.00000</td>\n",
       "      <td>0.000000</td>\n",
       "      <td>51002.110000</td>\n",
       "      <td>0.000000</td>\n",
       "      <td>0.000000</td>\n",
       "      <td>2.000000</td>\n",
       "      <td>410.000000</td>\n",
       "    </tr>\n",
       "    <tr>\n",
       "      <th>50%</th>\n",
       "      <td>652.000000</td>\n",
       "      <td>37.000000</td>\n",
       "      <td>5.000000</td>\n",
       "      <td>97198.540000</td>\n",
       "      <td>1.000000</td>\n",
       "      <td>1.00000</td>\n",
       "      <td>1.000000</td>\n",
       "      <td>100193.915000</td>\n",
       "      <td>0.000000</td>\n",
       "      <td>0.000000</td>\n",
       "      <td>3.000000</td>\n",
       "      <td>605.000000</td>\n",
       "    </tr>\n",
       "    <tr>\n",
       "      <th>75%</th>\n",
       "      <td>718.000000</td>\n",
       "      <td>44.000000</td>\n",
       "      <td>7.000000</td>\n",
       "      <td>127644.240000</td>\n",
       "      <td>2.000000</td>\n",
       "      <td>1.00000</td>\n",
       "      <td>1.000000</td>\n",
       "      <td>149388.247500</td>\n",
       "      <td>0.000000</td>\n",
       "      <td>0.000000</td>\n",
       "      <td>4.000000</td>\n",
       "      <td>801.000000</td>\n",
       "    </tr>\n",
       "    <tr>\n",
       "      <th>max</th>\n",
       "      <td>850.000000</td>\n",
       "      <td>92.000000</td>\n",
       "      <td>10.000000</td>\n",
       "      <td>250898.090000</td>\n",
       "      <td>4.000000</td>\n",
       "      <td>1.00000</td>\n",
       "      <td>1.000000</td>\n",
       "      <td>199992.480000</td>\n",
       "      <td>1.000000</td>\n",
       "      <td>1.000000</td>\n",
       "      <td>5.000000</td>\n",
       "      <td>1000.000000</td>\n",
       "    </tr>\n",
       "  </tbody>\n",
       "</table>\n",
       "</div>"
      ],
      "text/plain": [
       "        CreditScore           Age        Tenure        Balance  NumOfProducts  \\\n",
       "count  10000.000000  10000.000000  10000.000000   10000.000000   10000.000000   \n",
       "mean     650.528800     38.921800      5.012800   76485.889288       1.530200   \n",
       "std       96.653299     10.487806      2.892174   62397.405202       0.581654   \n",
       "min      350.000000     18.000000      0.000000       0.000000       1.000000   \n",
       "25%      584.000000     32.000000      3.000000       0.000000       1.000000   \n",
       "50%      652.000000     37.000000      5.000000   97198.540000       1.000000   \n",
       "75%      718.000000     44.000000      7.000000  127644.240000       2.000000   \n",
       "max      850.000000     92.000000     10.000000  250898.090000       4.000000   \n",
       "\n",
       "       Credit_card  IsActiveMember  EstimatedSalary         Churn  \\\n",
       "count  10000.00000    10000.000000     10000.000000  10000.000000   \n",
       "mean       0.70550        0.515100    100090.239881      0.203800   \n",
       "std        0.45584        0.499797     57510.492818      0.402842   \n",
       "min        0.00000        0.000000        11.580000      0.000000   \n",
       "25%        0.00000        0.000000     51002.110000      0.000000   \n",
       "50%        1.00000        1.000000    100193.915000      0.000000   \n",
       "75%        1.00000        1.000000    149388.247500      0.000000   \n",
       "max        1.00000        1.000000    199992.480000      1.000000   \n",
       "\n",
       "           Complain  Satisfaction Score  Point Earned  \n",
       "count  10000.000000        10000.000000  10000.000000  \n",
       "mean       0.204400            3.013800    606.515100  \n",
       "std        0.403283            1.405919    225.924839  \n",
       "min        0.000000            1.000000    119.000000  \n",
       "25%        0.000000            2.000000    410.000000  \n",
       "50%        0.000000            3.000000    605.000000  \n",
       "75%        0.000000            4.000000    801.000000  \n",
       "max        1.000000            5.000000   1000.000000  "
      ]
     },
     "execution_count": 116,
     "metadata": {},
     "output_type": "execute_result"
    }
   ],
   "source": [
    "df.describe()"
   ]
  },
  {
   "cell_type": "markdown",
   "metadata": {},
   "source": [
    "UNIVARIATE ANALYSIS\n",
    "* Analyzing single attributes at a time"
   ]
  },
  {
   "cell_type": "code",
   "execution_count": 117,
   "metadata": {},
   "outputs": [
    {
     "data": {
      "image/png": "[encoded data removed]",
      "text/plain": [
       "<Figure size 1440x1080 with 12 Axes>"
      ]
     },
     "metadata": {
      "needs_background": "light"
     },
     "output_type": "display_data"
    }
   ],
   "source": [
    "def plot_histograms(data_frame, bins=50, figsize=(20, 15)):\n",
    "    data_frame.hist(bins=bins, figsize=figsize)\n",
    "    plt.show()\n",
    "\n",
    "\n",
    "plot_histograms(df)"
   ]
  },
  {
   "cell_type": "code",
   "execution_count": 118,
   "metadata": {},
   "outputs": [
    {
     "data": {
      "image/png": "[encoded data removed]",
      "text/plain": [
       "<Figure size 576x432 with 1 Axes>"
      ]
     },
     "metadata": {
      "needs_background": "light"
     },
     "output_type": "display_data"
    },
    {
     "data": {
      "image/png": "[encoded data removed]",
      "text/plain": [
       "<Figure size 576x432 with 1 Axes>"
      ]
     },
     "metadata": {
      "needs_background": "light"
     },
     "output_type": "display_data"
    },
    {
     "data": {
      "image/png": "[encoded data removed]",
      "text/plain": [
       "<Figure size 576x432 with 1 Axes>"
      ]
     },
     "metadata": {
      "needs_background": "light"
     },
     "output_type": "display_data"
    },
    {
     "data": {
      "image/png": "[encoded data removed]",
      "text/plain": [
       "<Figure size 576x432 with 1 Axes>"
      ]
     },
     "metadata": {
      "needs_background": "light"
     },
     "output_type": "display_data"
    },
    {
     "data": {
      "image/png": "[encoded data removed]",
      "text/plain": [
       "<Figure size 576x432 with 1 Axes>"
      ]
     },
     "metadata": {
      "needs_background": "light"
     },
     "output_type": "display_data"
    }
   ],
   "source": [
    "def plot_churn_by_feature(df, feature):\n",
    "    plt.figure(figsize=(8, 6))\n",
    "    sns.countplot(data=df, x=feature, hue='Churn')\n",
    "    plt.title(f'Churn by {feature}')\n",
    "    plt.show()\n",
    "\n",
    "features_to_plot = ['NumOfProducts', 'Credit_card', 'Country', 'Gender', 'IsActiveMember']\n",
    "\n",
    "for feature in features_to_plot:\n",
    "    plot_churn_by_feature(df, feature)\n"
   ]
  },
  {
   "cell_type": "code",
   "execution_count": 58,
   "metadata": {},
   "outputs": [
    {
     "data": {
      "image/png": "[encoded data removed]",
      "text/plain": [
       "<Figure size 576x432 with 1 Axes>"
      ]
     },
     "metadata": {
      "needs_background": "light"
     },
     "output_type": "display_data"
    }
   ],
   "source": [
    "# Churn by age group\n",
    "df['AgeGroup'] = pd.cut(df['Age'], bins=[0, 30, 40, 50, 60, np.inf], labels=['<30', '30-40', '40-50', '50-60', '60+'])\n",
    "plt.figure(figsize=(8, 6))\n",
    "sns.countplot(x='AgeGroup', hue='Churn', data=df)\n",
    "plt.title('Churn by Age Group')\n",
    "plt.show()"
   ]
  },
  {
   "cell_type": "code",
   "execution_count": 62,
   "metadata": {},
   "outputs": [
    {
     "name": "stdout",
     "output_type": "stream",
     "text": [
      "Gender\n",
      "Female    25.071539\n",
      "Male      16.474253\n",
      "Name: Churn, dtype: float64\n"
     ]
    }
   ],
   "source": [
    "# Churn rate by gender\n",
    "churn_rate_gender = df.groupby('Gender')['Churn'].mean() * 100\n",
    "print(churn_rate_gender)"
   ]
  },
  {
   "cell_type": "markdown",
   "metadata": {},
   "source": [
    "Based on the provided dataset, the churn rate by gender is as follows:\n",
    "\n",
    "Female: 25.1%\n",
    "Male: 16.5% This means that the churn rate for female customers is higher (25.1%) compared to male customers (16.5%)."
   ]
  },
  {
   "cell_type": "code",
   "execution_count": 65,
   "metadata": {},
   "outputs": [
    {
     "name": "stdout",
     "output_type": "stream",
     "text": [
      "Country\n",
      "France     16.174711\n",
      "Germany    32.443204\n",
      "Spain      16.673395\n",
      "Name: Churn, dtype: float64\n"
     ]
    }
   ],
   "source": [
    "# Churn rate by geography\n",
    "churn_rate_geography = df.groupby('Country')['Churn'].mean() * 100\n",
    "print(churn_rate_geography)"
   ]
  },
  {
   "cell_type": "markdown",
   "metadata": {},
   "source": [
    "Based on the provided dataset, the churn rate by geography is as follows:\n",
    "\n",
    "France: 16.2%\n",
    "Germany: 32.4%\n",
    "Spain: 16.7% This indicates that the churn rate is highest in Germany (32.4%), followed by Spain (16.7%) and France (16.2%)."
   ]
  },
  {
   "cell_type": "code",
   "execution_count": 66,
   "metadata": {},
   "outputs": [
    {
     "name": "stdout",
     "output_type": "stream",
     "text": [
      "AgeGroup\n",
      "<30       7.520325\n",
      "30-40    12.109638\n",
      "40-50    33.965517\n",
      "50-60    56.210790\n",
      "60+      24.784483\n",
      "Name: Churn, dtype: float64\n"
     ]
    }
   ],
   "source": [
    "#Churn rate by age group\n",
    "churn_rate_age = df.groupby('AgeGroup')['Churn'].mean() * 100\n",
    "print(churn_rate_age)"
   ]
  },
  {
   "cell_type": "markdown",
   "metadata": {},
   "source": [
    "Based on the provided dataset, the churn rate by age group is as follows:\n",
    "\n",
    "<30: 7.5%\n",
    "30-40: 12.1%\n",
    "40-50: 33.9%\n",
    "50-60: 56.2%\n",
    "60+: 24.8%\n",
    "These churn rates indicate that the highest churn rate is observed in the 50-60 age group (56.2%), \n",
    "followed by the 40-50 age group (33.9%). The lowest churn rate is observed in the <30 age group (7.5%)."
   ]
  },
  {
   "cell_type": "markdown",
   "metadata": {},
   "source": [
    "DA Insights\n",
    "Gender and Churn:\n",
    "The churn rate is higher for female customers (25.1%) compared to male customers (16.5%). This indicates that gender may play a role in customer churn, with female customers being more likely to churn.\n",
    "Geography and Churn:\n",
    "The churn rate varies across different countries. Germany has the highest churn rate (32.4%), followed by Spain (16.7%) and France (16.2%). This suggests that geographic location may impact customer churn, with customers in certain countries more prone to churn.\n",
    "Age Group and Churn:\n",
    "Age group strongly influences churn rate. The highest churn rate is observed in the 50-60 age group (56.2%), followed by the 40-50 age group (33.9%). The lowest churn rate is observed in the <30 age group (7.5%). This implies that older customers are more likely to churn, while younger customers are more likely to stay with the bank.\n",
    "Number of Products and Churn:\n",
    "The number of products held by customers can impact churn. Customers with fewer products may be less likely to churn, while those with more products may have a higher churn rate. Further analysis is required to understand the specific relationship.\n",
    "Credit Card and Churn:\n",
    "Having a credit card does not seem to have a significant impact on customer churn. The churn rate appears similar for customers with and without a credit card. Therefore, credit card ownership alone may not be a strong indicator of churn.\n",
    "Activity Status and Churn:\n",
    "Customer activity status is another important factor. Active members appear to have a lower churn rate compared to inactive members. This suggests that engaged and active customers are more likely to stay with the bank.\n",
    "Balance and Churn:\n",
    "The distribution of account balances does not show a clear distinction between churned and retained customers. Further analysis and feature engineering may be required to explore the relationship between balance and churn in more detail."
   ]
  },
  {
   "cell_type": "code",
   "execution_count": 119,
   "metadata": {},
   "outputs": [
    {
     "data": {
      "image/png": "[encoded data removed]",
      "text/plain": [
       "<Figure size 432x288 with 1 Axes>"
      ]
     },
     "metadata": {
      "needs_background": "light"
     },
     "output_type": "display_data"
    }
   ],
   "source": [
    "df['Churn'].value_counts().plot(kind='bar')\n",
    "plt.show()"
   ]
  },
  {
   "cell_type": "markdown",
   "metadata": {},
   "source": [
    "1. There is data imbalance which has to be dealt with when implementing models.\n",
    "2. Imbalance can affect the models accuracy."
   ]
  },
  {
   "cell_type": "code",
   "execution_count": 75,
   "metadata": {},
   "outputs": [
    {
     "data": {
      "text/html": [
       "<div>\n",
       "<style scoped>\n",
       "    .dataframe tbody tr th:only-of-type {\n",
       "        vertical-align: middle;\n",
       "    }\n",
       "\n",
       "    .dataframe tbody tr th {\n",
       "        vertical-align: top;\n",
       "    }\n",
       "\n",
       "    .dataframe thead th {\n",
       "        text-align: right;\n",
       "    }\n",
       "</style>\n",
       "<table border=\"1\" class=\"dataframe\">\n",
       "  <thead>\n",
       "    <tr style=\"text-align: right;\">\n",
       "      <th></th>\n",
       "      <th>CustomerId</th>\n",
       "      <th>CreditScore</th>\n",
       "      <th>Age</th>\n",
       "      <th>Tenure</th>\n",
       "      <th>Balance</th>\n",
       "      <th>NumOfProducts</th>\n",
       "      <th>Credit_card</th>\n",
       "      <th>IsActiveMember</th>\n",
       "      <th>EstimatedSalary</th>\n",
       "      <th>Churn</th>\n",
       "      <th>Complain</th>\n",
       "      <th>Satisfaction Score</th>\n",
       "      <th>Point Earned</th>\n",
       "    </tr>\n",
       "  </thead>\n",
       "  <tbody>\n",
       "    <tr>\n",
       "      <th>CustomerId</th>\n",
       "      <td>1.000000</td>\n",
       "      <td>0.005308</td>\n",
       "      <td>0.009497</td>\n",
       "      <td>-0.014883</td>\n",
       "      <td>-0.012419</td>\n",
       "      <td>0.016972</td>\n",
       "      <td>-0.014025</td>\n",
       "      <td>0.001665</td>\n",
       "      <td>0.015271</td>\n",
       "      <td>-0.006203</td>\n",
       "      <td>-0.007293</td>\n",
       "      <td>-0.000865</td>\n",
       "      <td>-0.013076</td>\n",
       "    </tr>\n",
       "    <tr>\n",
       "      <th>CreditScore</th>\n",
       "      <td>0.005308</td>\n",
       "      <td>1.000000</td>\n",
       "      <td>-0.003965</td>\n",
       "      <td>0.000842</td>\n",
       "      <td>0.006268</td>\n",
       "      <td>0.012238</td>\n",
       "      <td>-0.005458</td>\n",
       "      <td>0.025651</td>\n",
       "      <td>-0.001384</td>\n",
       "      <td>-0.026771</td>\n",
       "      <td>-0.027048</td>\n",
       "      <td>-0.012599</td>\n",
       "      <td>0.000077</td>\n",
       "    </tr>\n",
       "    <tr>\n",
       "      <th>Age</th>\n",
       "      <td>0.009497</td>\n",
       "      <td>-0.003965</td>\n",
       "      <td>1.000000</td>\n",
       "      <td>-0.009997</td>\n",
       "      <td>0.028308</td>\n",
       "      <td>-0.030680</td>\n",
       "      <td>-0.011721</td>\n",
       "      <td>0.085472</td>\n",
       "      <td>-0.007201</td>\n",
       "      <td>0.285296</td>\n",
       "      <td>0.283530</td>\n",
       "      <td>-0.000876</td>\n",
       "      <td>0.002222</td>\n",
       "    </tr>\n",
       "    <tr>\n",
       "      <th>Tenure</th>\n",
       "      <td>-0.014883</td>\n",
       "      <td>0.000842</td>\n",
       "      <td>-0.009997</td>\n",
       "      <td>1.000000</td>\n",
       "      <td>-0.012254</td>\n",
       "      <td>0.013444</td>\n",
       "      <td>0.022583</td>\n",
       "      <td>-0.028362</td>\n",
       "      <td>0.007784</td>\n",
       "      <td>-0.013656</td>\n",
       "      <td>-0.013047</td>\n",
       "      <td>0.008663</td>\n",
       "      <td>-0.010196</td>\n",
       "    </tr>\n",
       "    <tr>\n",
       "      <th>Balance</th>\n",
       "      <td>-0.012419</td>\n",
       "      <td>0.006268</td>\n",
       "      <td>0.028308</td>\n",
       "      <td>-0.012254</td>\n",
       "      <td>1.000000</td>\n",
       "      <td>-0.304180</td>\n",
       "      <td>-0.014858</td>\n",
       "      <td>-0.010084</td>\n",
       "      <td>0.012797</td>\n",
       "      <td>0.118577</td>\n",
       "      <td>0.119124</td>\n",
       "      <td>-0.002588</td>\n",
       "      <td>0.014608</td>\n",
       "    </tr>\n",
       "    <tr>\n",
       "      <th>NumOfProducts</th>\n",
       "      <td>0.016972</td>\n",
       "      <td>0.012238</td>\n",
       "      <td>-0.030680</td>\n",
       "      <td>0.013444</td>\n",
       "      <td>-0.304180</td>\n",
       "      <td>1.000000</td>\n",
       "      <td>0.003183</td>\n",
       "      <td>0.009612</td>\n",
       "      <td>0.014204</td>\n",
       "      <td>-0.047611</td>\n",
       "      <td>-0.046357</td>\n",
       "      <td>-0.011394</td>\n",
       "      <td>-0.015330</td>\n",
       "    </tr>\n",
       "    <tr>\n",
       "      <th>Credit_card</th>\n",
       "      <td>-0.014025</td>\n",
       "      <td>-0.005458</td>\n",
       "      <td>-0.011721</td>\n",
       "      <td>0.022583</td>\n",
       "      <td>-0.014858</td>\n",
       "      <td>0.003183</td>\n",
       "      <td>1.000000</td>\n",
       "      <td>-0.011866</td>\n",
       "      <td>-0.009933</td>\n",
       "      <td>-0.006976</td>\n",
       "      <td>-0.007095</td>\n",
       "      <td>-0.000212</td>\n",
       "      <td>-0.011041</td>\n",
       "    </tr>\n",
       "    <tr>\n",
       "      <th>IsActiveMember</th>\n",
       "      <td>0.001665</td>\n",
       "      <td>0.025651</td>\n",
       "      <td>0.085472</td>\n",
       "      <td>-0.028362</td>\n",
       "      <td>-0.010084</td>\n",
       "      <td>0.009612</td>\n",
       "      <td>-0.011866</td>\n",
       "      <td>1.000000</td>\n",
       "      <td>-0.011421</td>\n",
       "      <td>-0.156356</td>\n",
       "      <td>-0.154741</td>\n",
       "      <td>0.010236</td>\n",
       "      <td>-0.004983</td>\n",
       "    </tr>\n",
       "    <tr>\n",
       "      <th>EstimatedSalary</th>\n",
       "      <td>0.015271</td>\n",
       "      <td>-0.001384</td>\n",
       "      <td>-0.007201</td>\n",
       "      <td>0.007784</td>\n",
       "      <td>0.012797</td>\n",
       "      <td>0.014204</td>\n",
       "      <td>-0.009933</td>\n",
       "      <td>-0.011421</td>\n",
       "      <td>1.000000</td>\n",
       "      <td>0.012490</td>\n",
       "      <td>0.012494</td>\n",
       "      <td>-0.013747</td>\n",
       "      <td>-0.001515</td>\n",
       "    </tr>\n",
       "    <tr>\n",
       "      <th>Churn</th>\n",
       "      <td>-0.006203</td>\n",
       "      <td>-0.026771</td>\n",
       "      <td>0.285296</td>\n",
       "      <td>-0.013656</td>\n",
       "      <td>0.118577</td>\n",
       "      <td>-0.047611</td>\n",
       "      <td>-0.006976</td>\n",
       "      <td>-0.156356</td>\n",
       "      <td>0.012490</td>\n",
       "      <td>1.000000</td>\n",
       "      <td>0.995693</td>\n",
       "      <td>-0.005849</td>\n",
       "      <td>-0.004628</td>\n",
       "    </tr>\n",
       "    <tr>\n",
       "      <th>Complain</th>\n",
       "      <td>-0.007293</td>\n",
       "      <td>-0.027048</td>\n",
       "      <td>0.283530</td>\n",
       "      <td>-0.013047</td>\n",
       "      <td>0.119124</td>\n",
       "      <td>-0.046357</td>\n",
       "      <td>-0.007095</td>\n",
       "      <td>-0.154741</td>\n",
       "      <td>0.012494</td>\n",
       "      <td>0.995693</td>\n",
       "      <td>1.000000</td>\n",
       "      <td>-0.004799</td>\n",
       "      <td>-0.002893</td>\n",
       "    </tr>\n",
       "    <tr>\n",
       "      <th>Satisfaction Score</th>\n",
       "      <td>-0.000865</td>\n",
       "      <td>-0.012599</td>\n",
       "      <td>-0.000876</td>\n",
       "      <td>0.008663</td>\n",
       "      <td>-0.002588</td>\n",
       "      <td>-0.011394</td>\n",
       "      <td>-0.000212</td>\n",
       "      <td>0.010236</td>\n",
       "      <td>-0.013747</td>\n",
       "      <td>-0.005849</td>\n",
       "      <td>-0.004799</td>\n",
       "      <td>1.000000</td>\n",
       "      <td>-0.014400</td>\n",
       "    </tr>\n",
       "    <tr>\n",
       "      <th>Point Earned</th>\n",
       "      <td>-0.013076</td>\n",
       "      <td>0.000077</td>\n",
       "      <td>0.002222</td>\n",
       "      <td>-0.010196</td>\n",
       "      <td>0.014608</td>\n",
       "      <td>-0.015330</td>\n",
       "      <td>-0.011041</td>\n",
       "      <td>-0.004983</td>\n",
       "      <td>-0.001515</td>\n",
       "      <td>-0.004628</td>\n",
       "      <td>-0.002893</td>\n",
       "      <td>-0.014400</td>\n",
       "      <td>1.000000</td>\n",
       "    </tr>\n",
       "  </tbody>\n",
       "</table>\n",
       "</div>"
      ],
      "text/plain": [
       "                    CustomerId  CreditScore       Age    Tenure   Balance  \\\n",
       "CustomerId            1.000000     0.005308  0.009497 -0.014883 -0.012419   \n",
       "CreditScore           0.005308     1.000000 -0.003965  0.000842  0.006268   \n",
       "Age                   0.009497    -0.003965  1.000000 -0.009997  0.028308   \n",
       "Tenure               -0.014883     0.000842 -0.009997  1.000000 -0.012254   \n",
       "Balance              -0.012419     0.006268  0.028308 -0.012254  1.000000   \n",
       "NumOfProducts         0.016972     0.012238 -0.030680  0.013444 -0.304180   \n",
       "Credit_card          -0.014025    -0.005458 -0.011721  0.022583 -0.014858   \n",
       "IsActiveMember        0.001665     0.025651  0.085472 -0.028362 -0.010084   \n",
       "EstimatedSalary       0.015271    -0.001384 -0.007201  0.007784  0.012797   \n",
       "Churn                -0.006203    -0.026771  0.285296 -0.013656  0.118577   \n",
       "Complain             -0.007293    -0.027048  0.283530 -0.013047  0.119124   \n",
       "Satisfaction Score   -0.000865    -0.012599 -0.000876  0.008663 -0.002588   \n",
       "Point Earned         -0.013076     0.000077  0.002222 -0.010196  0.014608   \n",
       "\n",
       "                    NumOfProducts  Credit_card  IsActiveMember  \\\n",
       "CustomerId               0.016972    -0.014025        0.001665   \n",
       "CreditScore              0.012238    -0.005458        0.025651   \n",
       "Age                     -0.030680    -0.011721        0.085472   \n",
       "Tenure                   0.013444     0.022583       -0.028362   \n",
       "Balance                 -0.304180    -0.014858       -0.010084   \n",
       "NumOfProducts            1.000000     0.003183        0.009612   \n",
       "Credit_card              0.003183     1.000000       -0.011866   \n",
       "IsActiveMember           0.009612    -0.011866        1.000000   \n",
       "EstimatedSalary          0.014204    -0.009933       -0.011421   \n",
       "Churn                   -0.047611    -0.006976       -0.156356   \n",
       "Complain                -0.046357    -0.007095       -0.154741   \n",
       "Satisfaction Score      -0.011394    -0.000212        0.010236   \n",
       "Point Earned            -0.015330    -0.011041       -0.004983   \n",
       "\n",
       "                    EstimatedSalary     Churn  Complain  Satisfaction Score  \\\n",
       "CustomerId                 0.015271 -0.006203 -0.007293           -0.000865   \n",
       "CreditScore               -0.001384 -0.026771 -0.027048           -0.012599   \n",
       "Age                       -0.007201  0.285296  0.283530           -0.000876   \n",
       "Tenure                     0.007784 -0.013656 -0.013047            0.008663   \n",
       "Balance                    0.012797  0.118577  0.119124           -0.002588   \n",
       "NumOfProducts              0.014204 -0.047611 -0.046357           -0.011394   \n",
       "Credit_card               -0.009933 -0.006976 -0.007095           -0.000212   \n",
       "IsActiveMember            -0.011421 -0.156356 -0.154741            0.010236   \n",
       "EstimatedSalary            1.000000  0.012490  0.012494           -0.013747   \n",
       "Churn                      0.012490  1.000000  0.995693           -0.005849   \n",
       "Complain                   0.012494  0.995693  1.000000           -0.004799   \n",
       "Satisfaction Score        -0.013747 -0.005849 -0.004799            1.000000   \n",
       "Point Earned              -0.001515 -0.004628 -0.002893           -0.014400   \n",
       "\n",
       "                    Point Earned  \n",
       "CustomerId             -0.013076  \n",
       "CreditScore             0.000077  \n",
       "Age                     0.002222  \n",
       "Tenure                 -0.010196  \n",
       "Balance                 0.014608  \n",
       "NumOfProducts          -0.015330  \n",
       "Credit_card            -0.011041  \n",
       "IsActiveMember         -0.004983  \n",
       "EstimatedSalary        -0.001515  \n",
       "Churn                  -0.004628  \n",
       "Complain               -0.002893  \n",
       "Satisfaction Score     -0.014400  \n",
       "Point Earned            1.000000  "
      ]
     },
     "execution_count": 75,
     "metadata": {},
     "output_type": "execute_result"
    }
   ],
   "source": [
    "df.corr()"
   ]
  },
  {
   "cell_type": "code",
   "execution_count": 79,
   "metadata": {},
   "outputs": [
    {
     "data": {
      "image/png": "[encoded data removed]",
      "text/plain": [
       "<Figure size 1080x576 with 2 Axes>"
      ]
     },
     "metadata": {
      "needs_background": "light"
     },
     "output_type": "display_data"
    }
   ],
   "source": [
    "plt.figure(figsize=(15, 8))\n",
    "mask = np.triu(df.corr())  # Create a mask to display only the upper half of the matrix\n",
    "sns.heatmap(df.corr(), annot=True, cmap='viridis', mask=mask)\n",
    "plt.show()"
   ]
  },
  {
   "cell_type": "markdown",
   "metadata": {},
   "source": [
    "DATA PREPARATION FOR MODELLING"
   ]
  },
  {
   "cell_type": "code",
   "execution_count": 121,
   "metadata": {},
   "outputs": [],
   "source": [
    "X = df.drop('Churn', axis=1)\n",
    "y = df['Churn']\n",
    "\n",
    "X_train, X_test, y_train, y_test = train_test_split(X, y, stratify = y, test_size=0.2, random_state=42)\n"
   ]
  },
  {
   "cell_type": "code",
   "execution_count": 122,
   "metadata": {},
   "outputs": [],
   "source": [
    "# X = df.drop('Churn', axis=1)\n",
    "# y = df['Churn']\n",
    "\n",
    "# X_train, X_test, y_train, y_test = train_test_split(X, y, stratify = y, test_size=0.2, random_state=42)\n",
    "\n",
    "# # Display the number of test and training samples\n",
    "# print(\"Number of test samples:\", X_test.shape[0])\n",
    "# print(\"Number of training samples:\", X_train.shape[0])\n",
    "\n",
    "# # Create a data preprocessing pipeline that includes data scaling and a linear regression model\n",
    "# pipeline = Pipeline([\n",
    "#     ('scaler', StandardScaler()),  # Scaling the data\n",
    "#     ('regressor', LogisticRegression(C=10,penalty ='l2',random_state=42))  # Linear Regression model\n",
    "# ])\n",
    "\n",
    "# # Fit the pipeline on the training data, which includes scaling the features\n",
    "# pipeline.fit(X_train, y_train)\n",
    "\n",
    "# # Make predictions on the test data\n",
    "# y_pred_test = pipeline.predict(X_test)\n",
    "\n",
    "# y_pred_train = pipeline.predict(X_train)\n",
    "\n",
    "# # Calculate the Root Mean Squared Error (RMSE) as a measure of the model's prediction accuracy\n",
    "# test_rmse = np.sqrt(mean_squared_error(y_test, y_pred_test, squared=False))\n",
    "# train_rmse = np.sqrt(mean_squared_error(y_train, y_pred_train, squared=False))\n",
    "\n",
    "# train_r2 = r2_score(y_train, y_pred_train)\n",
    "# test_r2 = r2_score(y_test, y_pred_test)\n",
    "\n",
    "\n",
    "# print(f\"\"\"\n",
    "# RMSE\n",
    "# Train: {train_rmse} \\t Test: {test_rmse}\n",
    "# R-squared\n",
    "# Train: {train_r2} \\t Test: {test_r2}\n",
    "# \"\"\")"
   ]
  },
  {
   "cell_type": "code",
   "execution_count": 128,
   "metadata": {},
   "outputs": [],
   "source": [
    "list_of_models = {\n",
    "    'logistic_regression' : LogisticRegression(random_state = 42, max_iter = 10000),\n",
    "    'decision_tree' : DecisionTreeClassifier(max_depth = 5, random_state = 42),\n",
    "    'Random_forest' : RandomForestClassifier(n_estimators = 150, max_depth = 4, random_state = 42),\n",
    "    'GBDT' : GradientBoostingClassifier(n_estimators = 150, max_depth = 4, random_state = 42),\n",
    "    \"XGBoost\" : xgb.XGBClassifier(n_estimators = 200, max_depth = 5, random_state = 42)\n",
    "}"
   ]
  },
  {
   "cell_type": "markdown",
   "metadata": {},
   "source": [
    "tuning"
   ]
  },
  {
   "cell_type": "code",
   "execution_count": null,
   "metadata": {},
   "outputs": [],
   "source": []
  }
 ],
 "metadata": {
  "kernelspec": {
   "display_name": "Python 3",
   "language": "python",
   "name": "python3"
  },
  "language_info": {
   "codemirror_mode": {
    "name": "ipython",
    "version": 3
   },
   "file_extension": ".py",
   "mimetype": "text/x-python",
   "name": "python",
   "nbconvert_exporter": "python",
   "pygments_lexer": "ipython3",
   "version": "3.8.5"
  }
 },
 "nbformat": 4,
 "nbformat_minor": 4
}
